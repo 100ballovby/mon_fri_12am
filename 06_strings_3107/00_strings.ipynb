{
 "cells": [
  {
   "cell_type": "markdown",
   "metadata": {
    "collapsed": true,
    "is_executing": true
   },
   "source": [
    "# Строки <code>&lt;class 'str'&gt;</code>\n",
    "\n",
    "<p style=\"font-size: 18px;\"><b>Строка</b> - это последовательность символов, которая заключена в кавычки. Кавыки могут быть одинарными или двойными, для Python это не имеет никакого значения.</p>\n",
    "\n",
    "<p style=\"font-size: 18px;\">Строка является <b>неизменяемой</b> последовательностью. У каждого элемента строки есть свой порядковый номер, который называется <b>индексом</b>. Индексы начинаются с <code>0</code> и продолжают увеличиваться, пока не закончится строка.</p>"
   ]
  },
  {
   "cell_type": "code",
   "execution_count": null,
   "metadata": {
    "is_executing": true
   },
   "outputs": [],
   "source": [
    "a = \"hello\"\n",
    "b = ''\n",
    "\n",
    "print(type(a))\n",
    "print(type(b))"
   ]
  },
  {
   "cell_type": "markdown",
   "metadata": {},
   "source": [
    "# Экранирование символов\n",
    "\n",
    "<p style=\"font-size: 18px;\">Есть исключительный случай, когда внутри строки есть кавычки или апостроф. Фраза: <code>Hello! I'm a Python developer</code> доставляет проблемы при использовании одинарных кавычек, потому что апостроф зачитывается как кавычка, закрывающая строку.</p>"
   ]
  },
  {
   "cell_type": "code",
   "execution_count": 2,
   "metadata": {},
   "outputs": [
    {
     "ename": "SyntaxError",
     "evalue": "unterminated string literal (detected at line 1) (2519651205.py, line 1)",
     "output_type": "error",
     "traceback": [
      "\u001B[0;36m  Cell \u001B[0;32mIn[2], line 1\u001B[0;36m\u001B[0m\n\u001B[0;31m    print('Hello, I'm a Python developer')\u001B[0m\n\u001B[0m                                        ^\u001B[0m\n\u001B[0;31mSyntaxError\u001B[0m\u001B[0;31m:\u001B[0m unterminated string literal (detected at line 1)\n"
     ]
    }
   ],
   "source": [
    "print('Hello, I'm a Python developer')"
   ]
  },
  {
   "cell_type": "markdown",
   "metadata": {},
   "source": [
    "<p style=\"font-size: 18px;\">Апостроф указывает, что строка как бы закончилась, но после строки почему-то есть другие символы. Существует два варианта:</p>\n",
    "\n",
    "<ul style=\"font-size: 18px;\">\n",
    "    <li>Использовать разные типы кавычек: <code>\"Hello, I'm a Python developer!\"</code></li>\n",
    "</ul>"
   ]
  },
  {
   "cell_type": "code",
   "execution_count": 3,
   "metadata": {},
   "outputs": [
    {
     "name": "stdout",
     "output_type": "stream",
     "text": [
      "Hello, I'm a Python developer!\n"
     ]
    }
   ],
   "source": [
    "print(\"Hello, I'm a Python developer!\")"
   ]
  },
  {
   "cell_type": "markdown",
   "metadata": {},
   "source": [
    "<ul style=\"font-size: 18px;\">\n",
    "    <li>Использование символа <code>\\</code> перед той кавычкой, которую вы хотите проигнорить: <code>'Hello, I<span style=\"color: orange\">\\'</span>m a Python developer'</code></li>\n",
    "</ul>"
   ]
  },
  {
   "cell_type": "code",
   "execution_count": 4,
   "metadata": {},
   "outputs": [
    {
     "name": "stdout",
     "output_type": "stream",
     "text": [
      "Hello, I'm a Python developer\n"
     ]
    }
   ],
   "source": [
    "print('Hello, I\\'m a Python developer')"
   ]
  },
  {
   "cell_type": "markdown",
   "metadata": {},
   "source": [
    "# Индексация строк\n",
    "\n",
    "<p style=\"font-size: 18px;\">Так как строка - это упорядоченная конечная последовательность, у каждого элемента строки должен быть свой уникальный идентификатор, по которому к нему можно обратиться. Эти идентификаторы (или номера) называются <b>индексами</b>. Индексы начинаются с 0, заканчиваются длиной строки.</p>\n",
    "\n",
    "<p style=\"font-size: 18px;\"><pre>\n",
    " 0 1 2 3 4 5\n",
    "<code>'П р и в е т'</code>\n",
    "</pre></p>\n",
    "\n",
    "<p style=\"font-size: 18px;\">Кавычки по бокам строки в индексацию не входят. Абсполютно ВСЕ символы, которые находятся внутри строки (в том числе пробелы) входят в индексацию => имеют порядковый номер (индекс).</p>"
   ]
  },
  {
   "cell_type": "code",
   "execution_count": 6,
   "metadata": {},
   "outputs": [
    {
     "name": "stdout",
     "output_type": "stream",
     "text": [
      "0 1 2 3 4 5 6 7 8 9 10 11 12 13 14 15 16 17 18 19 20 21 22 23 24 25 26 27 28 29 30 "
     ]
    }
   ],
   "source": [
    "phrase = 'Привет! Я разработчик на Python'\n",
    "\n",
    "# посмотрим индексы\n",
    "for i in range(len(phrase)):  # len() измеряет длину коллекции, которую ей передали и возвращает число\n",
    "    print(i, end=' ')"
   ]
  },
  {
   "cell_type": "markdown",
   "metadata": {},
   "source": [
    "<p style=\"font-size: 18px;\">Для того, чтобы получить символ строки по его индексу, нужно:</p>\n",
    "\n",
    "<ol style=\"font-size: 18px;\">\n",
    "    <li>Указать имя переменной, в которой хранится строка;</li>\n",
    "    <li>поставить после имени квадратные скобки <code>[]</code>;</li>\n",
    "    <li>в квадратных скобках указать индекс элемента, который вы хотите получить <code>variable[3]</code></li>\n",
    "</ol>"
   ]
  },
  {
   "cell_type": "code",
   "execution_count": 7,
   "metadata": {},
   "outputs": [
    {
     "name": "stdout",
     "output_type": "stream",
     "text": [
      "!\n"
     ]
    }
   ],
   "source": [
    "print(phrase[6])  # печатаю символ с индексом 6 из строки phrase"
   ]
  },
  {
   "cell_type": "markdown",
   "metadata": {},
   "source": [
    "<p style=\"font-size: 18px;\">Если вы пытаетесь обратиться к индексу, которого не существует, вы получите ошибку <code>IndexError</code>.</p>"
   ]
  },
  {
   "cell_type": "code",
   "execution_count": 8,
   "metadata": {},
   "outputs": [
    {
     "ename": "IndexError",
     "evalue": "string index out of range",
     "output_type": "error",
     "traceback": [
      "\u001B[0;31m---------------------------------------------------------------------------\u001B[0m",
      "\u001B[0;31mIndexError\u001B[0m                                Traceback (most recent call last)",
      "Cell \u001B[0;32mIn[8], line 1\u001B[0m\n\u001B[0;32m----> 1\u001B[0m \u001B[38;5;28mprint\u001B[39m(\u001B[43mphrase\u001B[49m\u001B[43m[\u001B[49m\u001B[38;5;241;43m31\u001B[39;49m\u001B[43m]\u001B[49m)\n",
      "\u001B[0;31mIndexError\u001B[0m: string index out of range"
     ]
    }
   ],
   "source": [
    "print(phrase[31])"
   ]
  },
  {
   "cell_type": "markdown",
   "metadata": {},
   "source": [
    "# Математические операции со строками\n",
    "\n",
    "<p style=\"font-size: 18px;\">Со строками можно выполнять математические операции.</p>\n",
    "\n",
    "<p style=\"font-size: 18px;\">1. <code>Конкатенация</code> - сложение двух строк.</p>"
   ]
  },
  {
   "cell_type": "code",
   "execution_count": 9,
   "metadata": {},
   "outputs": [
    {
     "name": "stdout",
     "output_type": "stream",
     "text": [
      "hello\n"
     ]
    }
   ],
   "source": [
    "print('hel' + 'lo')"
   ]
  },
  {
   "cell_type": "markdown",
   "metadata": {},
   "source": [
    "<p style=\"font-size: 18px;\"><b>Важно понимать,</b> что строки можно складывать ТОЛЬКО со строками. Если вы попытаетесь сложить строку и число<sub>int</sub>, вы получите ошибку <code>TypeError</code>.</p>"
   ]
  },
  {
   "cell_type": "code",
   "execution_count": 10,
   "metadata": {},
   "outputs": [
    {
     "name": "stdout",
     "output_type": "stream",
     "text": [
      "a5\n"
     ]
    },
    {
     "ename": "TypeError",
     "evalue": "can only concatenate str (not \"int\") to str",
     "output_type": "error",
     "traceback": [
      "\u001B[0;31m---------------------------------------------------------------------------\u001B[0m",
      "\u001B[0;31mTypeError\u001B[0m                                 Traceback (most recent call last)",
      "Cell \u001B[0;32mIn[10], line 2\u001B[0m\n\u001B[1;32m      1\u001B[0m \u001B[38;5;28mprint\u001B[39m(\u001B[38;5;124m'\u001B[39m\u001B[38;5;124ma\u001B[39m\u001B[38;5;124m'\u001B[39m \u001B[38;5;241m+\u001B[39m \u001B[38;5;124m'\u001B[39m\u001B[38;5;124m5\u001B[39m\u001B[38;5;124m'\u001B[39m)\n\u001B[0;32m----> 2\u001B[0m \u001B[38;5;28mprint\u001B[39m(\u001B[38;5;124;43m'\u001B[39;49m\u001B[38;5;124;43ma\u001B[39;49m\u001B[38;5;124;43m'\u001B[39;49m\u001B[43m \u001B[49m\u001B[38;5;241;43m+\u001B[39;49m\u001B[43m \u001B[49m\u001B[38;5;241;43m5\u001B[39;49m)\n",
      "\u001B[0;31mTypeError\u001B[0m: can only concatenate str (not \"int\") to str"
     ]
    }
   ],
   "source": [
    "print('a' + '5')\n",
    "print('a' + 5)"
   ]
  },
  {
   "cell_type": "markdown",
   "metadata": {},
   "source": [
    "<p style=\"font-size: 18px;\"><b>Умножение строк</b>. Когда вы печаете на принтере какой-то документ, у вас есть возможность сделать несколько копий этого документа. Со строками тоже можно так поступать. Умножить строку - это значит создать несколько копий исходной строки, которые будут объеденины в одну строку.</p>"
   ]
  },
  {
   "cell_type": "code",
   "execution_count": 11,
   "metadata": {},
   "outputs": [
    {
     "name": "stdout",
     "output_type": "stream",
     "text": [
      "aaaaa\n"
     ]
    }
   ],
   "source": [
    "print('a' * 5)"
   ]
  },
  {
   "cell_type": "markdown",
   "metadata": {},
   "source": [
    "<p style=\"font-size: 18px;\"><b>Важно понимать,</b> что строки можно умножать ТОЛЬКО на числа<sub>int</sub>. Если вы умножите строку на строку или дробь, вы получите ошибку <code>TypeError</code>.</p>"
   ]
  },
  {
   "cell_type": "code",
   "execution_count": 12,
   "metadata": {},
   "outputs": [
    {
     "ename": "TypeError",
     "evalue": "can't multiply sequence by non-int of type 'str'",
     "output_type": "error",
     "traceback": [
      "\u001B[0;31m---------------------------------------------------------------------------\u001B[0m",
      "\u001B[0;31mTypeError\u001B[0m                                 Traceback (most recent call last)",
      "Cell \u001B[0;32mIn[12], line 1\u001B[0m\n\u001B[0;32m----> 1\u001B[0m \u001B[38;5;28mprint\u001B[39m(\u001B[38;5;124;43m'\u001B[39;49m\u001B[38;5;124;43mf\u001B[39;49m\u001B[38;5;124;43m'\u001B[39;49m\u001B[43m \u001B[49m\u001B[38;5;241;43m*\u001B[39;49m\u001B[43m \u001B[49m\u001B[38;5;124;43m'\u001B[39;49m\u001B[38;5;124;43mh\u001B[39;49m\u001B[38;5;124;43m'\u001B[39;49m)\n",
      "\u001B[0;31mTypeError\u001B[0m: can't multiply sequence by non-int of type 'str'"
     ]
    }
   ],
   "source": [
    "print('f' * 'h')"
   ]
  },
  {
   "cell_type": "markdown",
   "metadata": {},
   "source": [
    "# Срезы строки\n",
    "\n",
    "<p style=\"font-size: 18px;\">Срез строки - это последовательности символов, вырезанные из исходной строки, с которыми можно работать как с новой строкой. Срезы также называются подстроками.</p>\n",
    "\n",
    "<p style=\"font-size: 18px;\">Если индексы, как самостоятельная единица, нежизнеспособны, то срезы используются часто.</p>\n",
    "\n",
    "<p style=\"font-size: 18px;\">Чтобы сделать срез строки, нужно:</p>\n",
    "\n",
    "<ul style=\"font-size: 18px;\">\n",
    "    <li>Указать имя переменной, в которой хранится исходная строка;</li>\n",
    "    <li>поставить после имени <code>[]</code>;</li>\n",
    "    <li>в квадратных скобках указать индекс начального элемента, а через двоеточие индекс последнего элемента среза: <code>variable[3:6]</code>.</li>\n",
    "</ul>"
   ]
  },
  {
   "cell_type": "code",
   "execution_count": 20,
   "metadata": {},
   "outputs": [
    {
     "name": "stdout",
     "output_type": "stream",
     "text": [
      "мыла\n"
     ]
    }
   ],
   "source": [
    "phrase1 = 'мама мыла раму, где мама?'\n",
    "subphrase = phrase1[5:9]  # срезаю индесы 5, 6, 7, 8\n",
    "print(subphrase)"
   ]
  },
  {
   "cell_type": "markdown",
   "metadata": {},
   "source": [
    "<p style=\"font-size: 18px;\">Может появиться ощущение, что в переменной <code>subphrase</code> индексы теперь не <code>0, 1, ...</code>, а <code>5, 6, 7, 8</code>. Но это не так, потому что индесы просто персчитаются:</p>"
   ]
  },
  {
   "cell_type": "code",
   "execution_count": 21,
   "metadata": {},
   "outputs": [
    {
     "name": "stdout",
     "output_type": "stream",
     "text": [
      "м\n"
     ]
    }
   ],
   "source": [
    "print(subphrase[0])"
   ]
  },
  {
   "cell_type": "markdown",
   "metadata": {},
   "source": [
    "<p style=\"font-size: 18px;\">Если нужно срезать с начала строки и до определенного индекса, начальный индекс можно НЕ указывать:</p>"
   ]
  },
  {
   "cell_type": "code",
   "execution_count": 22,
   "metadata": {},
   "outputs": [
    {
     "name": "stdout",
     "output_type": "stream",
     "text": [
      "мама \n",
      "мама \n"
     ]
    }
   ],
   "source": [
    "print(phrase1[0:5])\n",
    "print(phrase1[:5])"
   ]
  },
  {
   "cell_type": "markdown",
   "metadata": {},
   "source": [
    "<p style=\"font-size: 18px;\">Если нужно срезать с определенного индекса и до конца строки, конечный индекс можно НЕ указывать:</p>"
   ]
  },
  {
   "cell_type": "code",
   "execution_count": 25,
   "metadata": {},
   "outputs": [
    {
     "name": "stdout",
     "output_type": "stream",
     "text": [
      "где мама?\n",
      "где мама?\n"
     ]
    }
   ],
   "source": [
    "print(phrase1[16:25])\n",
    "print(phrase1[16:])"
   ]
  },
  {
   "cell_type": "markdown",
   "metadata": {},
   "source": [
    "<p style=\"font-size: 18px;\">Если вы вообще не напишите индексы срезу, вы получите строку целиком:</p>"
   ]
  },
  {
   "cell_type": "code",
   "execution_count": 26,
   "metadata": {},
   "outputs": [
    {
     "name": "stdout",
     "output_type": "stream",
     "text": [
      "мама мыла раму, где мама?\n"
     ]
    }
   ],
   "source": [
    "print(phrase1[:])"
   ]
  },
  {
   "cell_type": "markdown",
   "metadata": {},
   "source": [
    "<p style=\"font-size: 18px;\">Строчку можно развернуть с использованием срезов. Для этого необходимо просто дописать отрицательный индекс (шаг)</p>"
   ]
  },
  {
   "cell_type": "code",
   "execution_count": 27,
   "metadata": {},
   "outputs": [
    {
     "name": "stdout",
     "output_type": "stream",
     "text": [
      "?амам едг ,умар алым амам\n"
     ]
    }
   ],
   "source": [
    "print(phrase1[::-1])"
   ]
  },
  {
   "cell_type": "markdown",
   "metadata": {},
   "source": [
    "<p style=\"font-size: 18px;\">Шаг можно использовать для вывода только четных или нечетных индексов.</p>"
   ]
  },
  {
   "cell_type": "code",
   "execution_count": 28,
   "metadata": {},
   "outputs": [
    {
     "name": "stdout",
     "output_type": "stream",
     "text": [
      "мм ыарм,гемм?\n"
     ]
    }
   ],
   "source": [
    "print(phrase1[::2])"
   ]
  },
  {
   "cell_type": "markdown",
   "metadata": {},
   "source": [
    "<p style=\"font-size: 18px;\">Индексы в срезах могут быть отрицательными:</p>"
   ]
  },
  {
   "cell_type": "code",
   "execution_count": 30,
   "metadata": {},
   "outputs": [
    {
     "name": "stdout",
     "output_type": "stream",
     "text": [
      "где мама?\n",
      "где\n"
     ]
    }
   ],
   "source": [
    "print(phrase1[-9:])\n",
    "print(phrase1[-9:-6])"
   ]
  },
  {
   "cell_type": "markdown",
   "metadata": {},
   "source": [
    "<p style=\"font-size: 18px;\"><b>Важно помнить</b>, что последний символ любой строки имеет индекс <code>-1</code>.</p>\n",
    "\n",
    "# ДЗ. Строки\n",
    "\n",
    "<ol style=\"font-size: 18px;\">\n",
    "    <li><b>Обратная строка:</b> Напишите программу, которая принимает строку от пользователя и выводит ее в обратном порядке. Например, для ввода <code>\"hello\"</code>, программа должна вывести <code>\"olleh\"</code>.</li>\n",
    "    <li><b>Первые и последние символы:</b> Напишите программу, которая принимает строку от пользователя и выводит первый и последний символы этой строки. Если строка пустая, выведите сообщение об этом.</li>\n",
    "</ol>\n",
    "\n",
    "# Методы строк\n",
    "\n",
    "<p style=\"font-size: 18px;\">Методы направлены на то, чтобы изменять или проверять строку на соответствие каким-либо условиям. При этом сами методы - это поведение строк, то есть те действия (набор действий), которые вы можете применять к строке.</p>\n",
    "\n",
    "<p style=\"font-size: 18px;\"><code>.upper()</code> - метод приведения всех символов строки в верхний регистр (капс)</p>"
   ]
  },
  {
   "cell_type": "code",
   "execution_count": 3,
   "metadata": {},
   "outputs": [
    {
     "name": "stdout",
     "output_type": "stream",
     "text": [
      "ПРИВЕТ\n"
     ]
    }
   ],
   "source": [
    "a = 'привет'\n",
    "\n",
    "print(a.upper())"
   ]
  },
  {
   "cell_type": "markdown",
   "metadata": {},
   "source": [
    "<p style=\"font-size: 18px;\"><code>.lower()</code> - метод приведения всех символов строки в нижний регистр (маленькие буквы)</p>"
   ]
  },
  {
   "cell_type": "code",
   "execution_count": 5,
   "metadata": {},
   "outputs": [
    {
     "name": "stdout",
     "output_type": "stream",
     "text": [
      "привет, как дела?\n"
     ]
    }
   ],
   "source": [
    "a = 'ПРИВЕТ, как ДЕЛА?'\n",
    "\n",
    "print(a.lower())"
   ]
  },
  {
   "cell_type": "markdown",
   "metadata": {},
   "source": [
    "<p style=\"font-size: 18px;\"><code>.lower()</code> используется в тех случаях, когда важно, чтобы <b>пользовательский ввод</b> был в нижнем регистре. Например: пользователь в форме регистрации вводит email таким образом: <code>MyEmAiL@GMail.com</code>.</p>"
   ]
  },
  {
   "cell_type": "code",
   "execution_count": 6,
   "metadata": {},
   "outputs": [
    {
     "name": "stdout",
     "output_type": "stream",
     "text": [
      "False\n"
     ]
    }
   ],
   "source": [
    "email1 = 'MyEmAiL@GMail.com'\n",
    "email2 = 'myemail@gmail.com'\n",
    "\n",
    "print(email1 == email2)"
   ]
  },
  {
   "cell_type": "markdown",
   "metadata": {},
   "source": [
    "<p style=\"font-size: 18px;\">Когда пользователь будет входить в личный кабинет после регистрации, нет гарантии, что он снова напишет свою почту так, как указал в момент регистрации. Поэтому задача сайта сделать так, чтобы убрать любые сложности в проверке почты или логина.</p>"
   ]
  },
  {
   "cell_type": "code",
   "execution_count": 7,
   "metadata": {},
   "outputs": [
    {
     "name": "stdout",
     "output_type": "stream",
     "text": [
      "myemail@gmail.com\n",
      "True\n"
     ]
    }
   ],
   "source": [
    "email1 = 'MyEmAiL@GMail.com'\n",
    "email2 = 'myemail@gmail.com'\n",
    "email1 = email1.lower()\n",
    "print(email1)\n",
    "\n",
    "print(email1 == email2)"
   ]
  },
  {
   "cell_type": "markdown",
   "metadata": {},
   "source": [
    "<p style=\"font-size: 18px;\"><code>.capitalize()</code> - метод приведения всех символов строки в нижний регистр, кроме первой буквы (первый символ должен быть буквой).</p>"
   ]
  },
  {
   "cell_type": "code",
   "execution_count": 12,
   "metadata": {},
   "outputs": [
    {
     "name": "stdout",
     "output_type": "stream",
     "text": [
      "aNDREW\n",
      "применим метод: Andrew\n",
      "!andrew\n"
     ]
    }
   ],
   "source": [
    "login = 'aNDREW'\n",
    "\n",
    "print(login)\n",
    "print('применим метод:', login.capitalize())\n",
    "\n",
    "print('!aNDREW'.capitalize())"
   ]
  },
  {
   "cell_type": "markdown",
   "metadata": {},
   "source": [
    "<p style=\"font-size: 18px;\"><code>.replace(что_меняем, на_что_меняем)</code> - метод, который заменяет один или несколько символов строки на другие символы.</p>\n",
    "\n",
    "<p style=\"font-size: 18px;\">Дело в том, что строки являются неизменяемыми объектами. То есть вы не можете обратиться к символу по индексу и сказать ему, что на его месте теперь будет другой символ.</p>"
   ]
  },
  {
   "cell_type": "code",
   "execution_count": 13,
   "metadata": {},
   "outputs": [
    {
     "ename": "TypeError",
     "evalue": "'str' object does not support item assignment",
     "output_type": "error",
     "traceback": [
      "\u001B[0;31m---------------------------------------------------------------------------\u001B[0m",
      "\u001B[0;31mTypeError\u001B[0m                                 Traceback (most recent call last)",
      "Cell \u001B[0;32mIn[13], line 2\u001B[0m\n\u001B[1;32m      1\u001B[0m с \u001B[38;5;241m=\u001B[39m \u001B[38;5;124m'\u001B[39m\u001B[38;5;124mлошь\u001B[39m\u001B[38;5;124m'\u001B[39m\n\u001B[0;32m----> 2\u001B[0m \u001B[43mс\u001B[49m\u001B[43m[\u001B[49m\u001B[38;5;241;43m2\u001B[39;49m\u001B[43m]\u001B[49m \u001B[38;5;241m=\u001B[39m \u001B[38;5;124m'\u001B[39m\u001B[38;5;124mж\u001B[39m\u001B[38;5;124m'\u001B[39m  \u001B[38;5;66;03m# пытаюсь заменить символ через индекс\u001B[39;00m\n",
      "\u001B[0;31mTypeError\u001B[0m: 'str' object does not support item assignment"
     ]
    }
   ],
   "source": [
    "с = 'лошь'\n",
    "с[2] = 'ж'  # пытаюсь заменить символ через индекс"
   ]
  },
  {
   "cell_type": "markdown",
   "metadata": {},
   "source": [
    "<p style=\"font-size: 18px;\">поэтому для замены символов был придуман метод <code>replace()</code></p>"
   ]
  },
  {
   "cell_type": "code",
   "execution_count": 15,
   "metadata": {},
   "outputs": [
    {
     "name": "stdout",
     "output_type": "stream",
     "text": [
      "лошь\n"
     ]
    }
   ],
   "source": [
    "c = 'лошь'\n",
    "с = с.replace('Ш', 'Ж')\n",
    "print(c)"
   ]
  },
  {
   "cell_type": "markdown",
   "metadata": {},
   "source": [
    "<p style=\"font-size: 18px;\">Метод позволяет менять сразу несколько букв и регулировать при этом количество замен.</p>"
   ]
  },
  {
   "cell_type": "code",
   "execution_count": 17,
   "metadata": {},
   "outputs": [
    {
     "name": "stdout",
     "output_type": "stream",
     "text": [
      "малако\n"
     ]
    }
   ],
   "source": [
    "word = 'молоко'\n",
    "print(word.replace('о', 'а', 2))"
   ]
  },
  {
   "cell_type": "code",
   "execution_count": 18,
   "metadata": {},
   "outputs": [
    {
     "name": "stdout",
     "output_type": "stream",
     "text": [
      "Пока, Андрей!\n"
     ]
    }
   ],
   "source": [
    "phrase = 'Привет, Андрей!'\n",
    "print(phrase.replace('Привет', 'Пока'))"
   ]
  },
  {
   "cell_type": "markdown",
   "metadata": {},
   "source": [
    "<p style=\"font-size: 18px;\">Как и в случае с оператором <code>in</code> для замены последовательности нужно указывать последовательность именно в том виде, в котором она представлена в строке.</p>\n",
    "\n",
    "# Методы проверки\n",
    "\n",
    "<p style=\"font-size: 18px;\">Существует группа методов, способных проверять строку на соответствие каким-либо условиям.</p>\n",
    "\n",
    "<p style=\"font-size: 18px;\"><code>.startswith(<b>symbol</b>)</code> - метод проверки того, что строка начинается с определенного символа или последовательности символов.</p>"
   ]
  },
  {
   "cell_type": "code",
   "execution_count": 19,
   "metadata": {},
   "outputs": [
    {
     "name": "stdout",
     "output_type": "stream",
     "text": [
      "Введите строчку: Ананас\n",
      "True\n"
     ]
    }
   ],
   "source": [
    "p = input('Введите строчку: ')\n",
    "\n",
    "print(p.startswith('А'))"
   ]
  },
  {
   "cell_type": "markdown",
   "metadata": {},
   "source": [
    "<p style=\"font-size: 18px;\">Можно проверять не один символ, а несколько символов:</p>"
   ]
  },
  {
   "cell_type": "code",
   "execution_count": 21,
   "metadata": {},
   "outputs": [
    {
     "name": "stdout",
     "output_type": "stream",
     "text": [
      "True\n"
     ]
    }
   ],
   "source": [
    "phrase = 'Привет, Андрей! Зачем ты плюнул в голубей?'\n",
    "\n",
    "print(phrase.startswith('Привет, Андрей! '))"
   ]
  },
  {
   "cell_type": "markdown",
   "metadata": {},
   "source": [
    "<p style=\"font-size: 18px;\"><code>.endswith(<b>symbol</b>)</code> - метод проверки того, что строка заканчивается определенным символом или последовательностью символов.</p>"
   ]
  },
  {
   "cell_type": "code",
   "execution_count": 25,
   "metadata": {},
   "outputs": [
    {
     "name": "stdout",
     "output_type": "stream",
     "text": [
      "False\n",
      "True\n"
     ]
    }
   ],
   "source": [
    "phrase = 'Привет, Андрей! Зачем ты плюнул в ГОЛУБЕЙ?'\n",
    "\n",
    "print(phrase.endswith('голубей?'))\n",
    "print(phrase.lower().endswith('голубей?'))"
   ]
  },
  {
   "cell_type": "markdown",
   "metadata": {},
   "source": [
    "<p style=\"font-size: 18px;\">Можно проверять, чем является определенный символ строки:</p>\n",
    "\n",
    "<ul style=\"font-size: 18px;\">\n",
    "    <li><code>.islpha()</code> - метод проверки символа на соответствие букве;</li>\n",
    "    <li><code>.isdigit()</code> - метод проверки символа на соответствие цифре;</li>\n",
    "    <li><code>.isprintable()</code> - емтод проверки символа на соответствие любому печатному символу.</li>\n",
    "</ul>"
   ]
  },
  {
   "cell_type": "code",
   "execution_count": 27,
   "metadata": {},
   "outputs": [
    {
     "name": "stdout",
     "output_type": "stream",
     "text": [
      "True\n",
      "False\n",
      "False\n"
     ]
    }
   ],
   "source": [
    "print('ф'.isalpha())\n",
    "print('5'.isalpha())\n",
    "print(' '.isalpha())"
   ]
  },
  {
   "cell_type": "code",
   "execution_count": 28,
   "metadata": {},
   "outputs": [
    {
     "name": "stdout",
     "output_type": "stream",
     "text": [
      "False\n",
      "True\n",
      "False\n"
     ]
    }
   ],
   "source": [
    "print('ф'.isdigit())\n",
    "print('5'.isdigit())\n",
    "print(' '.isdigit())"
   ]
  },
  {
   "cell_type": "code",
   "execution_count": 29,
   "metadata": {},
   "outputs": [
    {
     "name": "stdout",
     "output_type": "stream",
     "text": [
      "True\n",
      "True\n",
      "True\n"
     ]
    }
   ],
   "source": [
    "print('ф'.isprintable())\n",
    "print('5'.isprintable())\n",
    "print(' '.isprintable())"
   ]
  },
  {
   "cell_type": "markdown",
   "metadata": {},
   "source": [
    "<hr>\n",
    "\n",
    "# Методы изменения/редактирования строк\n",
    "\n",
    "<p style=\"font-size: 18px\"><code>.strip()</code> - из строк можно убирать пробелы, если они находятся в начале и в конце строки.</p>"
   ]
  },
  {
   "cell_type": "code",
   "execution_count": 30,
   "metadata": {},
   "outputs": [
    {
     "name": "stdout",
     "output_type": "stream",
     "text": [
      "\"            hello\"\n"
     ]
    }
   ],
   "source": [
    "a = '            hello'\n",
    "print('\"' + a + '\"')\n"
   ]
  },
  {
   "cell_type": "code",
   "execution_count": 31,
   "metadata": {},
   "outputs": [
    {
     "name": "stdout",
     "output_type": "stream",
     "text": [
      "\"hello\"\n"
     ]
    }
   ],
   "source": [
    "a = a.strip()\n",
    "print('\"' + a + '\"')\n"
   ]
  },
  {
   "cell_type": "markdown",
   "metadata": {},
   "source": [
    "<p style=\"font-size: 18px\"><code>.split(sep)</code> - метод разбиения строки на список по разделителю <code>sep</code>.</p>"
   ]
  },
  {
   "cell_type": "code",
   "execution_count": 35,
   "metadata": {},
   "outputs": [
    {
     "name": "stdout",
     "output_type": "stream",
     "text": [
      "['Привет,', 'Андрей!', 'Зачем', 'ты', 'плюнул', 'в', 'голубей?']\n",
      "длина: 7\n"
     ]
    }
   ],
   "source": [
    "phrase = 'Привет, Андрей! Зачем ты плюнул в голубей?'\n",
    "phrase_list = phrase.split()  # по умолчанию за разделитель берется порбел.\n",
    "\n",
    "print(phrase_list)\n",
    "print('длина:', len(phrase_list))"
   ]
  },
  {
   "cell_type": "code",
   "execution_count": 36,
   "metadata": {},
   "outputs": [
    {
     "name": "stdout",
     "output_type": "stream",
     "text": [
      "['1', '2', '3', '4', '5', '6', '7', '8', '9']\n"
     ]
    }
   ],
   "source": [
    "numbers = '1,2,3,4,5,6,7,8,9'\n",
    "print(numbers.split(','))"
   ]
  },
  {
   "cell_type": "markdown",
   "metadata": {},
   "source": [
    "<p style=\"font-size: 18px\"><code>.join(list)</code> - метод сбора строки из списка <code>list</code>.</p>"
   ]
  },
  {
   "cell_type": "code",
   "execution_count": 39,
   "metadata": {},
   "outputs": [
    {
     "name": "stdout",
     "output_type": "stream",
     "text": [
      "Привет, Андрей! Зачем ты плюнул в голубей?\n"
     ]
    }
   ],
   "source": [
    "phrase_list = ['Привет,', 'Андрей!', 'Зачем', 'ты', 'плюнул', 'в', 'голубей?']\n",
    "print(' '.join(phrase_list))"
   ]
  },
  {
   "cell_type": "markdown",
   "metadata": {},
   "source": [
    "<hr>\n",
    "\n",
    "# F-строки\n",
    "\n",
    "<p style=\"font-size: 18px\">В Python 3.7 появились так называемые f-strings. Или форматированные строки. Эти строчки позволяют вам вставлять в строку значения каких-либо переменных.</p>"
   ]
  },
  {
   "cell_type": "code",
   "execution_count": 40,
   "metadata": {},
   "outputs": [
    {
     "name": "stdout",
     "output_type": "stream",
     "text": [
      "Введите количество собак: 45\n",
      "у меня есть 45 собак.\n"
     ]
    }
   ],
   "source": [
    "n = int(input('Введите количество собак: '))\n",
    "\n",
    "print(f'у меня есть {n} собак.')"
   ]
  },
  {
   "cell_type": "code",
   "execution_count": 43,
   "metadata": {},
   "outputs": [
    {
     "name": "stdout",
     "output_type": "stream",
     "text": [
      "Введи число: 45\n",
      "45 * 1 = 45\n",
      "45 * 2 = 90\n",
      "45 * 3 = 135\n",
      "45 * 4 = 180\n",
      "45 * 5 = 225\n",
      "45 * 6 = 270\n",
      "45 * 7 = 315\n",
      "45 * 8 = 360\n",
      "45 * 9 = 405\n",
      "45 * 10 = 450\n"
     ]
    }
   ],
   "source": [
    "n = int(input('Введи число: '))\n",
    "for i in range(1, 11):  # промежуток(от 1, ДО 10) <- 10 не входит в промежуток\n",
    "    print(f'{n} * {i} = {n * i}')\n"
   ]
  },
  {
   "cell_type": "markdown",
   "metadata": {},
   "source": [
    "<p style=\"font-size: 18px\">Для того, чтобы активировать f-строку, поставьте перед кавычками букву <code>f</code>, а затем при помощи <code>{}</code> расставьте имена переменных внутри строки в тех местах, где они нужны.</p>"
   ]
  },
  {
   "cell_type": "code",
   "execution_count": null,
   "metadata": {},
   "outputs": [],
   "source": []
  }
 ],
 "metadata": {
  "kernelspec": {
   "display_name": "Python 3 (ipykernel)",
   "language": "python",
   "name": "python3"
  },
  "language_info": {
   "codemirror_mode": {
    "name": "ipython",
    "version": 3
   },
   "file_extension": ".py",
   "mimetype": "text/x-python",
   "name": "python",
   "nbconvert_exporter": "python",
   "pygments_lexer": "ipython3",
   "version": "3.11.2"
  }
 },
 "nbformat": 4,
 "nbformat_minor": 1
}
