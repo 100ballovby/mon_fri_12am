{
 "cells": [
  {
   "cell_type": "markdown",
   "metadata": {
    "collapsed": true,
    "is_executing": true
   },
   "source": [
    "# Строки <code>&lt;class 'str'&gt;</code>\n",
    "\n",
    "<p style=\"font-size: 18px;\"><b>Строка</b> - это последовательность символов, которая заключена в кавычки. Кавыки могут быть одинарными или двойными, для Python это не имеет никакого значения.</p>\n",
    "\n",
    "<p style=\"font-size: 18px;\">Строка является <b>неизменяемой</b> последовательностью. У каждого элемента строки есть свой порядковый номер, который называется <b>индексом</b>. Индексы начинаются с <code>0</code> и продолжают увеличиваться, пока не закончится строка.</p>"
   ]
  },
  {
   "cell_type": "code",
   "execution_count": 1,
   "metadata": {},
   "outputs": [
    {
     "name": "stdout",
     "output_type": "stream",
     "text": [
      "<class 'str'>\n",
      "<class 'str'>\n"
     ]
    }
   ],
   "source": [
    "a = \"hello\"\n",
    "b = ''\n",
    "\n",
    "print(type(a))\n",
    "print(type(b))"
   ]
  },
  {
   "cell_type": "markdown",
   "metadata": {},
   "source": [
    "# Экранирование символов\n",
    "\n",
    "<p style=\"font-size: 18px;\">Есть исключительный случай, когда внутри строки есть кавычки или апостроф. Фраза: <code>Hello! I'm a Python developer</code> доставляет проблемы при использовании одинарных кавычек, потому что апостроф зачитывается как кавычка, закрывающая строку.</p>"
   ]
  },
  {
   "cell_type": "code",
   "execution_count": 2,
   "metadata": {},
   "outputs": [
    {
     "ename": "SyntaxError",
     "evalue": "unterminated string literal (detected at line 1) (2519651205.py, line 1)",
     "output_type": "error",
     "traceback": [
      "\u001B[0;36m  Cell \u001B[0;32mIn[2], line 1\u001B[0;36m\u001B[0m\n\u001B[0;31m    print('Hello, I'm a Python developer')\u001B[0m\n\u001B[0m                                        ^\u001B[0m\n\u001B[0;31mSyntaxError\u001B[0m\u001B[0;31m:\u001B[0m unterminated string literal (detected at line 1)\n"
     ]
    }
   ],
   "source": [
    "print('Hello, I'm a Python developer')"
   ]
  },
  {
   "cell_type": "markdown",
   "metadata": {},
   "source": [
    "<p style=\"font-size: 18px;\">Апостроф указывает, что строка как бы закончилась, но после строки почему-то есть другие символы. Существует два варианта:</p>\n",
    "\n",
    "<ul style=\"font-size: 18px;\">\n",
    "    <li>Использовать разные типы кавычек: <code>\"Hello, I'm a Python developer!\"</code></li>\n",
    "</ul>"
   ]
  },
  {
   "cell_type": "code",
   "execution_count": 3,
   "metadata": {},
   "outputs": [
    {
     "name": "stdout",
     "output_type": "stream",
     "text": [
      "Hello, I'm a Python developer!\n"
     ]
    }
   ],
   "source": [
    "print(\"Hello, I'm a Python developer!\")"
   ]
  },
  {
   "cell_type": "markdown",
   "metadata": {},
   "source": [
    "<ul style=\"font-size: 18px;\">\n",
    "    <li>Использование символа <code>\\</code> перед той кавычкой, которую вы хотите проигнорить: <code>'Hello, I<span style=\"color: orange\">\\'</span>m a Python developer'</code></li>\n",
    "</ul>"
   ]
  },
  {
   "cell_type": "code",
   "execution_count": 4,
   "metadata": {},
   "outputs": [
    {
     "name": "stdout",
     "output_type": "stream",
     "text": [
      "Hello, I'm a Python developer\n"
     ]
    }
   ],
   "source": [
    "print('Hello, I\\'m a Python developer')"
   ]
  },
  {
   "cell_type": "markdown",
   "metadata": {},
   "source": [
    "# Индексация строк\n",
    "\n",
    "<p style=\"font-size: 18px;\">Так как строка - это упорядоченная конечная последовательность, у каждого элемента строки должен быть свой уникальный идентификатор, по которому к нему можно обратиться. Эти идентификаторы (или номера) называются <b>индексами</b>. Индексы начинаются с 0, заканчиваются длиной строки.</p>\n",
    "\n",
    "<p style=\"font-size: 18px;\"><pre>\n",
    " 0 1 2 3 4 5\n",
    "<code>'П р и в е т'</code>\n",
    "</pre></p>\n",
    "\n",
    "<p style=\"font-size: 18px;\">Кавычки по бокам строки в индексацию не входят. Абсполютно ВСЕ символы, которые находятся внутри строки (в том числе пробелы) входят в индексацию => имеют порядковый номер (индекс).</p>"
   ]
  },
  {
   "cell_type": "code",
   "execution_count": 6,
   "metadata": {},
   "outputs": [
    {
     "name": "stdout",
     "output_type": "stream",
     "text": [
      "0 1 2 3 4 5 6 7 8 9 10 11 12 13 14 15 16 17 18 19 20 21 22 23 24 25 26 27 28 29 30 "
     ]
    }
   ],
   "source": [
    "phrase = 'Привет! Я разработчик на Python'\n",
    "\n",
    "# посмотрим индексы\n",
    "for i in range(len(phrase)):  # len() измеряет длину коллекции, которую ей передали и возвращает число\n",
    "    print(i, end=' ')"
   ]
  },
  {
   "cell_type": "markdown",
   "metadata": {},
   "source": [
    "<p style=\"font-size: 18px;\">Для того, чтобы получить символ строки по его индексу, нужно:</p>\n",
    "\n",
    "<ol style=\"font-size: 18px;\">\n",
    "    <li>Указать имя переменной, в которой хранится строка;</li>\n",
    "    <li>поставить после имени квадратные скобки <code>[]</code>;</li>\n",
    "    <li>в квадратных скобках указать индекс элемента, который вы хотите получить <code>variable[3]</code></li>\n",
    "</ol>"
   ]
  },
  {
   "cell_type": "code",
   "execution_count": 7,
   "metadata": {},
   "outputs": [
    {
     "name": "stdout",
     "output_type": "stream",
     "text": [
      "!\n"
     ]
    }
   ],
   "source": [
    "print(phrase[6])  # печатаю символ с индексом 6 из строки phrase"
   ]
  },
  {
   "cell_type": "markdown",
   "metadata": {},
   "source": [
    "<p style=\"font-size: 18px;\">Если вы пытаетесь обратиться к индексу, которого не существует, вы получите ошибку <code>IndexError</code>.</p>"
   ]
  },
  {
   "cell_type": "code",
   "execution_count": 8,
   "metadata": {},
   "outputs": [
    {
     "ename": "IndexError",
     "evalue": "string index out of range",
     "output_type": "error",
     "traceback": [
      "\u001B[0;31m---------------------------------------------------------------------------\u001B[0m",
      "\u001B[0;31mIndexError\u001B[0m                                Traceback (most recent call last)",
      "Cell \u001B[0;32mIn[8], line 1\u001B[0m\n\u001B[0;32m----> 1\u001B[0m \u001B[38;5;28mprint\u001B[39m(\u001B[43mphrase\u001B[49m\u001B[43m[\u001B[49m\u001B[38;5;241;43m31\u001B[39;49m\u001B[43m]\u001B[49m)\n",
      "\u001B[0;31mIndexError\u001B[0m: string index out of range"
     ]
    }
   ],
   "source": [
    "print(phrase[31])"
   ]
  },
  {
   "cell_type": "markdown",
   "metadata": {},
   "source": [
    "# Математические операции со строками\n",
    "\n",
    "<p style=\"font-size: 18px;\">Со строками можно выполнять математические операции.</p>\n",
    "\n",
    "<p style=\"font-size: 18px;\">1. <code>Конкатенация</code> - сложение двух строк.</p>"
   ]
  },
  {
   "cell_type": "code",
   "execution_count": 9,
   "metadata": {},
   "outputs": [
    {
     "name": "stdout",
     "output_type": "stream",
     "text": [
      "hello\n"
     ]
    }
   ],
   "source": [
    "print('hel' + 'lo')"
   ]
  },
  {
   "cell_type": "markdown",
   "metadata": {},
   "source": [
    "<p style=\"font-size: 18px;\"><b>Важно понимать,</b> что строки можно складывать ТОЛЬКО со строками. Если вы попытаетесь сложить строку и число<sub>int</sub>, вы получите ошибку <code>TypeError</code>.</p>"
   ]
  },
  {
   "cell_type": "code",
   "execution_count": 10,
   "metadata": {},
   "outputs": [
    {
     "name": "stdout",
     "output_type": "stream",
     "text": [
      "a5\n"
     ]
    },
    {
     "ename": "TypeError",
     "evalue": "can only concatenate str (not \"int\") to str",
     "output_type": "error",
     "traceback": [
      "\u001B[0;31m---------------------------------------------------------------------------\u001B[0m",
      "\u001B[0;31mTypeError\u001B[0m                                 Traceback (most recent call last)",
      "Cell \u001B[0;32mIn[10], line 2\u001B[0m\n\u001B[1;32m      1\u001B[0m \u001B[38;5;28mprint\u001B[39m(\u001B[38;5;124m'\u001B[39m\u001B[38;5;124ma\u001B[39m\u001B[38;5;124m'\u001B[39m \u001B[38;5;241m+\u001B[39m \u001B[38;5;124m'\u001B[39m\u001B[38;5;124m5\u001B[39m\u001B[38;5;124m'\u001B[39m)\n\u001B[0;32m----> 2\u001B[0m \u001B[38;5;28mprint\u001B[39m(\u001B[38;5;124;43m'\u001B[39;49m\u001B[38;5;124;43ma\u001B[39;49m\u001B[38;5;124;43m'\u001B[39;49m\u001B[43m \u001B[49m\u001B[38;5;241;43m+\u001B[39;49m\u001B[43m \u001B[49m\u001B[38;5;241;43m5\u001B[39;49m)\n",
      "\u001B[0;31mTypeError\u001B[0m: can only concatenate str (not \"int\") to str"
     ]
    }
   ],
   "source": [
    "print('a' + '5')\n",
    "print('a' + 5)"
   ]
  },
  {
   "cell_type": "markdown",
   "metadata": {},
   "source": [
    "<p style=\"font-size: 18px;\"><b>Умножение строк</b>. Когда вы печаете на принтере какой-то документ, у вас есть возможность сделать несколько копий этого документа. Со строками тоже можно так поступать. Умножить строку - это значит создать несколько копий исходной строки, которые будут объеденины в одну строку.</p>"
   ]
  },
  {
   "cell_type": "code",
   "execution_count": 11,
   "metadata": {},
   "outputs": [
    {
     "name": "stdout",
     "output_type": "stream",
     "text": [
      "aaaaa\n"
     ]
    }
   ],
   "source": [
    "print('a' * 5)"
   ]
  },
  {
   "cell_type": "markdown",
   "metadata": {},
   "source": [
    "<p style=\"font-size: 18px;\"><b>Важно понимать,</b> что строки можно умножать ТОЛЬКО на числа<sub>int</sub>. Если вы умножите строку на строку или дробь, вы получите ошибку <code>TypeError</code>.</p>"
   ]
  },
  {
   "cell_type": "code",
   "execution_count": 12,
   "metadata": {},
   "outputs": [
    {
     "ename": "TypeError",
     "evalue": "can't multiply sequence by non-int of type 'str'",
     "output_type": "error",
     "traceback": [
      "\u001B[0;31m---------------------------------------------------------------------------\u001B[0m",
      "\u001B[0;31mTypeError\u001B[0m                                 Traceback (most recent call last)",
      "Cell \u001B[0;32mIn[12], line 1\u001B[0m\n\u001B[0;32m----> 1\u001B[0m \u001B[38;5;28mprint\u001B[39m(\u001B[38;5;124;43m'\u001B[39;49m\u001B[38;5;124;43mf\u001B[39;49m\u001B[38;5;124;43m'\u001B[39;49m\u001B[43m \u001B[49m\u001B[38;5;241;43m*\u001B[39;49m\u001B[43m \u001B[49m\u001B[38;5;124;43m'\u001B[39;49m\u001B[38;5;124;43mh\u001B[39;49m\u001B[38;5;124;43m'\u001B[39;49m)\n",
      "\u001B[0;31mTypeError\u001B[0m: can't multiply sequence by non-int of type 'str'"
     ]
    }
   ],
   "source": [
    "print('f' * 'h')"
   ]
  },
  {
   "cell_type": "markdown",
   "metadata": {},
   "source": [
    "# Срезы строки\n",
    "\n",
    "<p style=\"font-size: 18px;\">Срез строки - это последовательности символов, вырезанные из исходной строки, с которыми можно работать как с новой строкой. Срезы также называются подстроками.</p>\n",
    "\n",
    "<p style=\"font-size: 18px;\">Если индексы, как самостоятельная единица, нежизнеспособны, то срезы используются часто.</p>\n",
    "\n",
    "<p style=\"font-size: 18px;\">Чтобы сделать срез строки, нужно:</p>\n",
    "\n",
    "<ul style=\"font-size: 18px;\">\n",
    "    <li>Указать имя переменной, в которой хранится исходная строка;</li>\n",
    "    <li>поставить после имени <code>[]</code>;</li>\n",
    "    <li>в квадратных скобках указать индекс начального элемента, а через двоеточие индекс последнего элемента среза: <code>variable[3:6]</code>.</li>\n",
    "</ul>"
   ]
  },
  {
   "cell_type": "code",
   "execution_count": 20,
   "metadata": {},
   "outputs": [
    {
     "name": "stdout",
     "output_type": "stream",
     "text": [
      "мыла\n"
     ]
    }
   ],
   "source": [
    "phrase1 = 'мама мыла раму, где мама?'\n",
    "subphrase = phrase1[5:9]  # срезаю индесы 5, 6, 7, 8\n",
    "print(subphrase)"
   ]
  },
  {
   "cell_type": "markdown",
   "metadata": {},
   "source": [
    "<p style=\"font-size: 18px;\">Может появиться ощущение, что в переменной <code>subphrase</code> индексы теперь не <code>0, 1, ...</code>, а <code>5, 6, 7, 8</code>. Но это не так, потому что индесы просто персчитаются:</p>"
   ]
  },
  {
   "cell_type": "code",
   "execution_count": 21,
   "metadata": {},
   "outputs": [
    {
     "name": "stdout",
     "output_type": "stream",
     "text": [
      "м\n"
     ]
    }
   ],
   "source": [
    "print(subphrase[0])"
   ]
  },
  {
   "cell_type": "markdown",
   "metadata": {},
   "source": [
    "<p style=\"font-size: 18px;\">Если нужно срезать с начала строки и до определенного индекса, начальный индекс можно НЕ указывать:</p>"
   ]
  },
  {
   "cell_type": "code",
   "execution_count": 22,
   "metadata": {},
   "outputs": [
    {
     "name": "stdout",
     "output_type": "stream",
     "text": [
      "мама \n",
      "мама \n"
     ]
    }
   ],
   "source": [
    "print(phrase1[0:5])\n",
    "print(phrase1[:5])"
   ]
  },
  {
   "cell_type": "markdown",
   "metadata": {},
   "source": [
    "<p style=\"font-size: 18px;\">Если нужно срезать с определенного индекса и до конца строки, конечный индекс можно НЕ указывать:</p>"
   ]
  },
  {
   "cell_type": "code",
   "execution_count": 25,
   "metadata": {},
   "outputs": [
    {
     "name": "stdout",
     "output_type": "stream",
     "text": [
      "где мама?\n",
      "где мама?\n"
     ]
    }
   ],
   "source": [
    "print(phrase1[16:25])\n",
    "print(phrase1[16:])"
   ]
  },
  {
   "cell_type": "markdown",
   "metadata": {},
   "source": [
    "<p style=\"font-size: 18px;\">Если вы вообще не напишите индексы срезу, вы получите строку целиком:</p>"
   ]
  },
  {
   "cell_type": "code",
   "execution_count": 26,
   "metadata": {},
   "outputs": [
    {
     "name": "stdout",
     "output_type": "stream",
     "text": [
      "мама мыла раму, где мама?\n"
     ]
    }
   ],
   "source": [
    "print(phrase1[:])"
   ]
  },
  {
   "cell_type": "markdown",
   "metadata": {},
   "source": [
    "<p style=\"font-size: 18px;\">Строчку можно развернуть с использованием срезов. Для этого необходимо просто дописать отрицательный индекс (шаг)</p>"
   ]
  },
  {
   "cell_type": "code",
   "execution_count": 27,
   "metadata": {},
   "outputs": [
    {
     "name": "stdout",
     "output_type": "stream",
     "text": [
      "?амам едг ,умар алым амам\n"
     ]
    }
   ],
   "source": [
    "print(phrase1[::-1])"
   ]
  },
  {
   "cell_type": "markdown",
   "metadata": {},
   "source": [
    "<p style=\"font-size: 18px;\">Шаг можно использовать для вывода только четных или нечетных индексов.</p>"
   ]
  },
  {
   "cell_type": "code",
   "execution_count": 28,
   "metadata": {},
   "outputs": [
    {
     "name": "stdout",
     "output_type": "stream",
     "text": [
      "мм ыарм,гемм?\n"
     ]
    }
   ],
   "source": [
    "print(phrase1[::2])"
   ]
  },
  {
   "cell_type": "markdown",
   "metadata": {},
   "source": [
    "<p style=\"font-size: 18px;\">Индексы в срезах могут быть отрицательными:</p>"
   ]
  },
  {
   "cell_type": "code",
   "execution_count": 30,
   "metadata": {},
   "outputs": [
    {
     "name": "stdout",
     "output_type": "stream",
     "text": [
      "где мама?\n",
      "где\n"
     ]
    }
   ],
   "source": [
    "print(phrase1[-9:])\n",
    "print(phrase1[-9:-6])"
   ]
  },
  {
   "cell_type": "markdown",
   "metadata": {},
   "source": [
    "<p style=\"font-size: 18px;\"><b>Важно помнить</b>, что последний символ любой строки имеет индекс <code>-1</code>.</p>\n",
    "\n",
    "# ДЗ. Строки\n",
    "\n",
    "<ol style=\"font-size: 18px;\">\n",
    "    <li><b>Обратная строка:</b> Напишите программу, которая принимает строку от пользователя и выводит ее в обратном порядке. Например, для ввода <code>\"hello\"</code>, программа должна вывести <code>\"olleh\"</code>.</li>\n",
    "    <li><b>Первые и последние символы:</b> Напишите программу, которая принимает строку от пользователя и выводит первый и последний символы этой строки. Если строка пустая, выведите сообщение об этом.</li>\n",
    "</ol>"
   ]
  },
  {
   "cell_type": "code",
   "execution_count": null,
   "metadata": {},
   "outputs": [],
   "source": []
  }
 ],
 "metadata": {
  "kernelspec": {
   "display_name": "Python 3 (ipykernel)",
   "language": "python",
   "name": "python3"
  },
  "language_info": {
   "codemirror_mode": {
    "name": "ipython",
    "version": 3
   },
   "file_extension": ".py",
   "mimetype": "text/x-python",
   "name": "python",
   "nbconvert_exporter": "python",
   "pygments_lexer": "ipython3",
   "version": "3.11.2"
  }
 },
 "nbformat": 4,
 "nbformat_minor": 1
}
