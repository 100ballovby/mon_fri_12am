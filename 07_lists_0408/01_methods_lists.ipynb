{
 "cells": [
  {
   "cell_type": "markdown",
   "metadata": {
    "collapsed": true,
    "is_executing": true
   },
   "source": [
    "# Методы списков\n",
    "\n",
    "<p style=\"font-size: 18px;\">Списки очень редко делаются вручную. Как правило, список наполняется значеними в автоматическом режиме.</p>\n",
    "\n",
    "<p style=\"font-size: 18px;\">Для того, чтобы можно было наполнить список (добавить в него новое значение) используется метод <code>.append(elem)</code>, он добавляет элемент <code>elem</code> в указанный список в самый конец. Сортировки при этом не происходит.</p>"
   ]
  },
  {
   "cell_type": "code",
   "execution_count": 1,
   "metadata": {},
   "outputs": [
    {
     "name": "stdout",
     "output_type": "stream",
     "text": [
      "Введите число: 56\n",
      "[56]\n"
     ]
    }
   ],
   "source": [
    "l = []\n",
    "\n",
    "n = int(input('Введите число: '))\n",
    "l.append(n)\n",
    "\n",
    "print(l)"
   ]
  },
  {
   "cell_type": "markdown",
   "metadata": {},
   "source": [
    "<p style=\"font-size: 18px;\">Метод <code>append()</code> для упрощения работы можно использовать в циклах:</p>"
   ]
  },
  {
   "cell_type": "code",
   "execution_count": 3,
   "metadata": {},
   "outputs": [
    {
     "name": "stdout",
     "output_type": "stream",
     "text": [
      "Введите элемент №1: 67\n",
      "Введите элемент №2: 90\n",
      "Введите элемент №3: 12\n",
      "[67, 90, 12]\n"
     ]
    }
   ],
   "source": [
    "l1 = []\n",
    "for i in range(3):\n",
    "    n = int(input(f'Введите элемент №{i + 1}: '))\n",
    "    l1.append(n)\n",
    "    \n",
    "print(l1)"
   ]
  },
  {
   "cell_type": "markdown",
   "metadata": {},
   "source": [
    "<p style=\"font-size: 18px;\">Метод можно использовать для автоматического наполнения списка случайными значениями.</p>"
   ]
  },
  {
   "cell_type": "code",
   "execution_count": 6,
   "metadata": {},
   "outputs": [
    {
     "name": "stdout",
     "output_type": "stream",
     "text": [
      "[52, 97, 58, 69, 82, 92, 18, 49, 18, 92]\n"
     ]
    }
   ],
   "source": [
    "import random\n",
    "\n",
    "l2 = []\n",
    "for i in range(10):\n",
    "    n = random.randint(1, 100)\n",
    "    l2.append(n)\n",
    "    \n",
    "print(l2)"
   ]
  },
  {
   "cell_type": "markdown",
   "metadata": {},
   "source": [
    "# Метод <code>list.extend(L)</code>\n",
    "\n",
    "<p style=\"font-size: 18px;\"><code>list.extend(L)</code> - метод <b>расширяет</b> список <code>list</code>, добавляя в конец этого списка все элементы из списка <code>L</code></p>"
   ]
  },
  {
   "cell_type": "code",
   "execution_count": 8,
   "metadata": {},
   "outputs": [
    {
     "name": "stdout",
     "output_type": "stream",
     "text": [
      "['Alice in Wonderland', 'Idiot', 'Master and Margarite', 'C++ Programming', 'Python from 0 to Hero', 'Architecture']\n"
     ]
    }
   ],
   "source": [
    "books = ['Alice in Wonderland', 'Idiot', 'Master and Margarite']\n",
    "books2 = ['C++ Programming', 'Python from 0 to Hero', 'Architecture']\n",
    "\n",
    "books.extend(books2)\n",
    "print(books)"
   ]
  },
  {
   "cell_type": "markdown",
   "metadata": {},
   "source": [
    "<p style=\"font-size: 18px;\">Использование метода можно заменить обычным сложением:</p>"
   ]
  },
  {
   "cell_type": "code",
   "execution_count": 10,
   "metadata": {},
   "outputs": [
    {
     "name": "stdout",
     "output_type": "stream",
     "text": [
      "['Alice in Wonderland', 'Idiot', 'Master and Margarite', 'C++ Programming', 'Python from 0 to Hero', 'Architecture']\n"
     ]
    }
   ],
   "source": [
    "books = ['Alice in Wonderland', 'Idiot', 'Master and Margarite']\n",
    "books2 = ['C++ Programming', 'Python from 0 to Hero', 'Architecture']\n",
    "\n",
    "all_books = books + books2\n",
    "print(all_books)"
   ]
  },
  {
   "cell_type": "markdown",
   "metadata": {},
   "source": [
    "# Метод <code>insert(i, x)</code>\n",
    "\n",
    "<p style=\"font-size: 18px;\">Метод <code>list.insert(i, x)</code> позволяет вставить элемент <code>x</code> в список <code>list</code> на место индекса <code>i</code> при этом все элементы, которые находились после индекса <code>i</code> будут сдвигаться в правую сторону.</p>"
   ]
  },
  {
   "cell_type": "code",
   "execution_count": 14,
   "metadata": {},
   "outputs": [
    {
     "name": "stdout",
     "output_type": "stream",
     "text": [
      "[1, 2, 3, 4, 5, 6, 7, 8]\n",
      "[1, 2, 3, 4, 10, 5, 6, 7, 8]\n"
     ]
    }
   ],
   "source": [
    "lst = [1, 2, 3, 4, 5, 6, 7, 8]\n",
    "\n",
    "print(lst)\n",
    "    \n",
    "lst.insert(4, 10)\n",
    "print(lst)"
   ]
  },
  {
   "cell_type": "markdown",
   "metadata": {},
   "source": [
    "# Метод <code>remove(x)</code>\n",
    "\n",
    "<p style=\"font-size: 18px;\">Метод удаляет первый элемент в списке, который имеет значение <code>x</code>. Если элемента с таким значением в списке нет, возникнет ошибка <code>ValueError</code>.</p>"
   ]
  },
  {
   "cell_type": "code",
   "execution_count": 17,
   "metadata": {},
   "outputs": [
    {
     "name": "stdout",
     "output_type": "stream",
     "text": [
      "['мыла', 'раму', 'где', 'мама']\n"
     ]
    }
   ],
   "source": [
    "lst = ['мама', 'мыла', 'раму', 'где', 'мама']\n",
    "\n",
    "lst.remove('мама')\n",
    "\n",
    "print(lst)"
   ]
  },
  {
   "cell_type": "markdown",
   "metadata": {},
   "source": [
    "# Метод <code>.pop(i)</code>\n",
    "\n",
    "<p style=\"font-size: 18px;\">Метод удаляет элемент списка, которые имеет индекс <code>i</code>. <code>i</code> можно не указывать, в этом случае будет удален элемент, который находится в списке последним. Если элемента с таким индексом не существует, возникнет ошибка <code>IndexError</code>.</p>\n"
   ]
  },
  {
   "cell_type": "code",
   "execution_count": 21,
   "metadata": {},
   "outputs": [
    {
     "name": "stdout",
     "output_type": "stream",
     "text": [
      "[-90, -11, -14, 78, 6, 86, 80, -74, 83]\n",
      "[-90, -11, -14, 78, 6, 86, -74, 83]\n"
     ]
    }
   ],
   "source": [
    "lst = [-90, -11, -14, 78, 6, 86, 80, -74, 83, -88]\n",
    "\n",
    "lst.pop()\n",
    "\n",
    "print(lst)\n",
    "\n",
    "lst.pop(6)\n",
    "\n",
    "print(lst)"
   ]
  },
  {
   "cell_type": "markdown",
   "metadata": {},
   "source": [
    "# Метод <code>.sort(function<span style=\"color: red;\">*</span>)</code>\n",
    "\n",
    "<p style=\"font-size: 18px;\">Метод сортирует список по возрастанию. Если передана функция <code style=\"color: red\">function</code> (она не обязательна), то сортировка происходит с учетом этой функции.</p>"
   ]
  },
  {
   "cell_type": "code",
   "execution_count": 22,
   "metadata": {},
   "outputs": [
    {
     "name": "stdout",
     "output_type": "stream",
     "text": [
      "[-90, -88, -74, -14, -11, 6, 78, 80, 83, 86]\n"
     ]
    }
   ],
   "source": [
    "lst = [-90, -11, -14, 78, 6, 86, 80, -74, 83, -88]\n",
    "\n",
    "lst.sort()\n",
    "print(lst)"
   ]
  },
  {
   "cell_type": "markdown",
   "metadata": {},
   "source": [
    "# Метод <code>.reverse()</code>\n",
    "\n",
    "<p style=\"font-size: 18px;\">Метод разворачивает список (все элементы идут в обратном порядке) сортировка при этом не производится.</p>"
   ]
  },
  {
   "cell_type": "code",
   "execution_count": 23,
   "metadata": {},
   "outputs": [
    {
     "name": "stdout",
     "output_type": "stream",
     "text": [
      "[-88, 83, -74, 80, 86, 6, 78, -14, -11, -90]\n"
     ]
    }
   ],
   "source": [
    "lst = [-90, -11, -14, 78, 6, 86, 80, -74, 83, -88]\n",
    "\n",
    "lst.reverse()\n",
    "print(lst)"
   ]
  },
  {
   "cell_type": "markdown",
   "metadata": {},
   "source": [
    "<hr>\n",
    "\n",
    "# Замена элемента списка\n",
    "\n",
    "<p style=\"font-size: 18px;\">В списках, в отличие от строк, можно заменять элементы. Для замены элемента нужно написать индекс и через знак присвоить <code>=</code> поставить новое значение.</p>"
   ]
  },
  {
   "cell_type": "code",
   "execution_count": 24,
   "metadata": {},
   "outputs": [
    {
     "name": "stdout",
     "output_type": "stream",
     "text": [
      "['apple', 'banana', 'grape', 'peach']\n"
     ]
    }
   ],
   "source": [
    "fruits = ['apple', 'banana', 'onion', 'peach']\n",
    "\n",
    "fruits[2] = 'grape'\n",
    "print(fruits)"
   ]
  },
  {
   "cell_type": "code",
   "execution_count": null,
   "metadata": {},
   "outputs": [],
   "source": []
  }
 ],
 "metadata": {
  "kernelspec": {
   "display_name": "Python 3 (ipykernel)",
   "language": "python",
   "name": "python3"
  },
  "language_info": {
   "codemirror_mode": {
    "name": "ipython",
    "version": 3
   },
   "file_extension": ".py",
   "mimetype": "text/x-python",
   "name": "python",
   "nbconvert_exporter": "python",
   "pygments_lexer": "ipython3",
   "version": "3.11.2"
  }
 },
 "nbformat": 4,
 "nbformat_minor": 1
}
