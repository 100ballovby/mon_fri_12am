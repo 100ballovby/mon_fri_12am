{
 "cells": [
  {
   "cell_type": "markdown",
   "metadata": {
    "collapsed": true
   },
   "source": [
    "# практическое применение цикла for\n",
    "\n",
    "\n",
    "<p style=\"font-size: 18px;\">Решим несколько задач с использованием цикла</p>\n",
    "<ol style=\"font-size: 18px;\">\n",
    "    <li>Подсчет суммы чисел от 0 до введенного пользователем числа;</li>\n",
    "    <li>Вывод чисел в обратном порядке от числа, которое введет пользователь;</li>\n",
    "    <li>Подсчет факториала числа, которое введет пользователь.</li>\n",
    "</ol>\n",
    "\n",
    "# Задача 1. Сумма чисел;\n",
    "\n",
    "<p style=\"font-size: 18px;\">Для решения задач на нахождение суммы чего бы то ни было, нужно пользоваться алгоритмом:</p>\n",
    "<ol style=\"font-size: 18px;\">\n",
    "    <li>Создать переменную, в которой будет производиться подсчет суммы.</li>\n",
    "    <li>Написать цикл, количество повторений которого будет равно количеству чисел, сумму которых нужно посчитать.</li>\n",
    "    <li>В цикле нужно инкрементировать переменную, в которой считается сумма.</li>\n",
    "    <li>Вывести сумму.</li>\n",
    "</ol>\n"
   ]
  },
  {
   "cell_type": "code",
   "execution_count": 7,
   "metadata": {},
   "outputs": [
    {
     "name": "stdout",
     "output_type": "stream",
     "text": [
      "Введи число, до которого нужно посчитать сумму чисел: 60\n",
      "Сумма чисел от 1 до 60 = 1830\n"
     ]
    }
   ],
   "source": [
    "n = int(input('Введи число, до которого нужно посчитать сумму чисел: '))\n",
    "\n",
    "summ = 0  # создал переменную, в которой я буду считать сумму\n",
    "for i in range(1, n + 1):  # цикл, количество повторений которого равно количеству чисел\n",
    "    summ += i  # увеличиваю с присваиванием (инкрементирую) переменную с суммой на значение i \n",
    "    \n",
    "print('Сумма чисел от 1 до', n, '=', summ)  # вывожу сумму "
   ]
  },
  {
   "cell_type": "markdown",
   "metadata": {},
   "source": [
    "<p style=\"font-size: 18px;\">Существует более простой вариант решения этой задачи, но он основан на встроенный функциях Python.</p>"
   ]
  },
  {
   "cell_type": "code",
   "execution_count": 10,
   "metadata": {},
   "outputs": [
    {
     "name": "stdout",
     "output_type": "stream",
     "text": [
      "Введи число, до которого нужно посчитать сумму чисел: 60\n",
      "Сумма чисел от 1 до 60 = 1830\n"
     ]
    }
   ],
   "source": [
    "n = int(input('Введи число, до которого нужно посчитать сумму чисел: '))\n",
    "\n",
    "res = sum(range(1, n + 1))\n",
    "\n",
    "print('Сумма чисел от 1 до', n, '=', summ)  # вывожу сумму "
   ]
  },
  {
   "cell_type": "markdown",
   "metadata": {},
   "source": [
    "# Задача 2. Числа в обратном порядке;\n",
    "\n",
    "<p style=\"font-size: 18px;\">Чтобы развернуть цикл, нужно добавить ему шаг -1 и поменять местами стартовую и конечную точки работы.</p>"
   ]
  },
  {
   "cell_type": "code",
   "execution_count": 11,
   "metadata": {},
   "outputs": [
    {
     "name": "stdout",
     "output_type": "stream",
     "text": [
      "Введите число: 10\n",
      "10\n",
      "9\n",
      "8\n",
      "7\n",
      "6\n",
      "5\n",
      "4\n",
      "3\n",
      "2\n",
      "1\n"
     ]
    }
   ],
   "source": [
    "n = int(input('Введите число: '))\n",
    "for i in range(n, 0, -1):\n",
    "    print(i)"
   ]
  },
  {
   "cell_type": "markdown",
   "metadata": {},
   "source": [
    "# Задача 3. Факториал числа;\n",
    "\n",
    "<img src=\"https://vertex-academy.com/tutorials/wp-content/uploads/2017/12/Факториал-в-Java.png\">\n",
    "\n",
    "<p style=\"font-size: 18px;\">Факториал числа похож на задачу про сумму чисел, только здесь используется умножение. Соответственно алгоритм решения будет точно таким же, как в случае с суммой, <b>НО</b> значением переменной не может быть 0, потому что любое число, умноженное на 0, становится нулем.</p>"
   ]
  },
  {
   "cell_type": "code",
   "execution_count": 14,
   "metadata": {},
   "outputs": [
    {
     "name": "stdout",
     "output_type": "stream",
     "text": [
      "Введи число, до которого нужно посчитать сумму чисел: 5\n",
      "5 ! =  120\n"
     ]
    }
   ],
   "source": [
    "n = int(input('Введи число, до которого нужно посчитать сумму чисел: '))\n",
    "\n",
    "factorial = 1 # при умножении на 0, я буду получать 0 \n",
    "for i in range(2, n + 1):  \n",
    "    factorial *= i \n",
    "    \n",
    "print(n, '! = ', factorial)"
   ]
  },
  {
   "cell_type": "markdown",
   "metadata": {},
   "source": [
    "<p style=\"font-size: 18px;\">Так же, как и в первой задаче, есть упрощенный вариант решения. С использованием модуля <code>math</code>.</p>"
   ]
  },
  {
   "cell_type": "code",
   "execution_count": 15,
   "metadata": {},
   "outputs": [
    {
     "name": "stdout",
     "output_type": "stream",
     "text": [
      "Введи число, до которого нужно посчитать сумму чисел: 5\n",
      "5 ! =  120\n"
     ]
    }
   ],
   "source": [
    "import math\n",
    "\n",
    "n = int(input('Введи число, до которого нужно посчитать сумму чисел: '))\n",
    "factorial = math.factorial(n)\n",
    "\n",
    "print(n, '! = ', factorial)"
   ]
  },
  {
   "cell_type": "code",
   "execution_count": null,
   "metadata": {},
   "outputs": [],
   "source": []
  }
 ],
 "metadata": {
  "kernelspec": {
   "display_name": "Python 3 (ipykernel)",
   "language": "python",
   "name": "python3"
  },
  "language_info": {
   "codemirror_mode": {
    "name": "ipython",
    "version": 3
   },
   "file_extension": ".py",
   "mimetype": "text/x-python",
   "name": "python",
   "nbconvert_exporter": "python",
   "pygments_lexer": "ipython3",
   "version": "3.11.2"
  }
 },
 "nbformat": 4,
 "nbformat_minor": 1
}
