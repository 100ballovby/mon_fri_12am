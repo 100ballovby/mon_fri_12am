{
 "cells": [
  {
   "cell_type": "markdown",
   "metadata": {
    "collapsed": true,
    "pycharm": {
     "is_executing": true
    }
   },
   "source": [
    "# range(start, stop, step)\n",
    "\n",
    "<p style=\"font-size: 18px;\"><code>range()</code> - это функция, которая позволяет построить числовой промежуток с заданными границами.</p>\n",
    "\n",
    "<p style=\"font-size: 18px;\">Существует 3 варианта написания этой функции, при этом каждый из трех дает разные результаты.</p>\n",
    "<p style=\"font-size: 18px;\"><code>range(stop)</code> - это первый вариант. В этом случае функция генерирует последовательность чисел от <code>0</code> до <code>stop - 1</code>:</p>"
   ]
  },
  {
   "cell_type": "code",
   "execution_count": 1,
   "metadata": {},
   "outputs": [
    {
     "name": "stdout",
     "output_type": "stream",
     "text": [
      "0 1 2 3 4 5 6 7 8 9\n"
     ]
    }
   ],
   "source": [
    "print(*range(10))"
   ]
  },
  {
   "cell_type": "markdown",
   "metadata": {},
   "source": [
    "<p style=\"font-size: 18px;\"><code>range(start, stop)</code> - второй вариант. В этом случае функция генерирует последовательность чисел от <code>start</code> до <code>stop - 1</code>.</p>"
   ]
  },
  {
   "cell_type": "code",
   "execution_count": 2,
   "metadata": {},
   "outputs": [
    {
     "name": "stdout",
     "output_type": "stream",
     "text": [
      "50 51 52 53 54 55 56 57 58 59 60 61 62 63 64 65 66 67 68 69 70 71 72 73 74 75 76 77 78 79 80 81 82 83 84 85 86 87 88 89 90 91 92 93 94 95 96 97 98 99\n"
     ]
    }
   ],
   "source": [
    "print(*range(50, 100))"
   ]
  },
  {
   "cell_type": "markdown",
   "metadata": {},
   "source": [
    "<p style=\"font-size: 18px;\"><code>range(start, stop, step)</code> - третий вариант. В этом случае функция генерирует последовательность чисел от <code>start</code> до <code>stop - 1</code> с шагом равным <code>step</code>. Шаг в последовательности - это величина, которая прибавляется к каждому числу в последовательности для того, чтобы получилось следующее число в последовательности. По умолчанию шаг равен <code>1</code>, поэтму когда вы пишете <code>range(1, 4)</code>, вы получаете последовательность 1<sub>+1 = </sub> 2<sub>+1 = </sub> 3</p>"
   ]
  },
  {
   "cell_type": "code",
   "execution_count": 5,
   "metadata": {
    "scrolled": true
   },
   "outputs": [
    {
     "name": "stdout",
     "output_type": "stream",
     "text": [
      "1+2 = 3+2 = 5+2 = 7+2 = 9+2 = 11+2 = 13+2 = 15+2 = 17+2 = 19+2 = 21+2 = 23+2 = 25+2 = 27+2 = 29+2 = 31+2 = 33+2 = 35+2 = 37+2 = 39+2 = 41+2 = 43+2 = 45+2 = 47+2 = 49+2 = 51+2 = 53+2 = 55+2 = 57+2 = 59+2 = 61+2 = 63+2 = 65+2 = 67+2 = 69+2 = 71+2 = 73+2 = 75+2 = 77+2 = 79+2 = 81+2 = 83+2 = 85+2 = 87+2 = 89+2 = 91+2 = 93+2 = 95+2 = 97+2 = 99\n"
     ]
    }
   ],
   "source": [
    "print(*range(1, 100, 2), sep='+2 = ')"
   ]
  },
  {
   "cell_type": "markdown",
   "metadata": {},
   "source": [
    "<p style=\"font-size: 18px;\"><code>range(stop, start, -step)</code> - условный четвертый вариант. В этом случае функция генерирует последовательность чисел от <code>stop</code> до <code>start</code> с шагом равным <code>-step</code>.</p>"
   ]
  },
  {
   "cell_type": "code",
   "execution_count": 7,
   "metadata": {},
   "outputs": [
    {
     "name": "stdout",
     "output_type": "stream",
     "text": [
      "10 9 8 7 6 5 4 3 2 1\n"
     ]
    }
   ],
   "source": [
    "print(*range(10, 0, -1))"
   ]
  },
  {
   "cell_type": "code",
   "execution_count": null,
   "metadata": {},
   "outputs": [],
   "source": []
  }
 ],
 "metadata": {
  "kernelspec": {
   "display_name": "Python 3 (ipykernel)",
   "language": "python",
   "name": "python3"
  },
  "language_info": {
   "codemirror_mode": {
    "name": "ipython",
    "version": 3
   },
   "file_extension": ".py",
   "mimetype": "text/x-python",
   "name": "python",
   "nbconvert_exporter": "python",
   "pygments_lexer": "ipython3",
   "version": "3.11.2"
  }
 },
 "nbformat": 4,
 "nbformat_minor": 1
}
