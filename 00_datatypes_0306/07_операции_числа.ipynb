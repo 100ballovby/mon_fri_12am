{
 "cells": [
  {
   "cell_type": "markdown",
   "metadata": {
    "collapsed": true,
    "pycharm": {
     "is_executing": true
    }
   },
   "source": [
    "# Математические операции в Python\n",
    "\n",
    "## Сложение +"
   ]
  },
  {
   "cell_type": "code",
   "execution_count": 1,
   "metadata": {},
   "outputs": [
    {
     "name": "stdout",
     "output_type": "stream",
     "text": [
      "8\n"
     ]
    }
   ],
   "source": [
    "print(5 + 3)"
   ]
  },
  {
   "cell_type": "markdown",
   "metadata": {},
   "source": [
    "## Вычитание -"
   ]
  },
  {
   "cell_type": "code",
   "execution_count": 2,
   "metadata": {},
   "outputs": [
    {
     "name": "stdout",
     "output_type": "stream",
     "text": [
      "8\n"
     ]
    }
   ],
   "source": [
    "print(12 - 4)"
   ]
  },
  {
   "cell_type": "markdown",
   "metadata": {},
   "source": [
    "## Умножение *"
   ]
  },
  {
   "cell_type": "code",
   "execution_count": 3,
   "metadata": {},
   "outputs": [
    {
     "name": "stdout",
     "output_type": "stream",
     "text": [
      "15\n"
     ]
    }
   ],
   "source": [
    "print(5 * 3)"
   ]
  },
  {
   "cell_type": "markdown",
   "metadata": {},
   "source": [
    "## Деление в Python\n",
    "\n",
    "<p style=\"font-size: 18px; text-align: justify;\">Существует три варианита деления:</p>\n",
    "<ul style=\"font-size: 18px; text-align: justify;\">\n",
    "    <li><code><b>/</b></code> - обычное деление, которое возвращает результат в виде дроби: <code>10 / 3 -> 3.3333333...<sub>float</sub></code>;</li>\n",
    "    <li><code><b>//</b></code> - целочисленное деление (деление БЕЗ дробной части), которое возвращает результат в виде целого числа: <code>10 // 3 -> 3<sub>int</sub></code>;</li>\n",
    "    <li><code><b>%</b></code> - оператор, который возвращает остаток от деления одного числа на другое, возвращет целое число: <code>10 % 3 -> 1<sub>int</sub></code>.</li>\n",
    "</ul>"
   ]
  },
  {
   "cell_type": "code",
   "execution_count": 4,
   "metadata": {},
   "outputs": [
    {
     "name": "stdout",
     "output_type": "stream",
     "text": [
      "10 / 3 ->  3.3333333333333335\n",
      "10 // 3 ->  3\n",
      "10 % 3 ->  1\n"
     ]
    }
   ],
   "source": [
    "print('10 / 3 -> ', 10 / 3)\n",
    "print('10 // 3 -> ', 10 // 3)\n",
    "print('10 % 3 -> ', 10 % 3)"
   ]
  },
  {
   "cell_type": "markdown",
   "metadata": {},
   "source": [
    "## Возведение в степень **\n",
    "\n",
    "<p style=\"font-size: 18px; text-align: justify;\">Python - почти единственный язык, который умеет возводить в степень оператором, а не функцией.</p>"
   ]
  },
  {
   "cell_type": "code",
   "execution_count": 5,
   "metadata": {},
   "outputs": [
    {
     "name": "stdout",
     "output_type": "stream",
     "text": [
      "8\n"
     ]
    }
   ],
   "source": [
    "print(2 ** 3)"
   ]
  },
  {
   "cell_type": "code",
   "execution_count": 7,
   "metadata": {},
   "outputs": [
    {
     "data": {
      "text/plain": [
       "8"
      ]
     },
     "execution_count": 7,
     "metadata": {},
     "output_type": "execute_result"
    }
   ],
   "source": [
    "pow(2, 3)  # функция, которая позволяет возвести число в степень другого числа"
   ]
  },
  {
   "cell_type": "markdown",
   "metadata": {},
   "source": [
    "# Операторы сравнения\n",
    "\n",
    "<p style=\"font-size: 18px; text-align: justify;\">Необходимы для сравнения двух или более величин. Могут сравнивать как числа, так и строки, так и коллекции... Каждый из операторов сравнения всегда возвращает ТОЛЬКО <code>bool</code>.</p>\n",
    "\n",
    "## Больше/меньше"
   ]
  },
  {
   "cell_type": "code",
   "execution_count": 8,
   "metadata": {},
   "outputs": [
    {
     "name": "stdout",
     "output_type": "stream",
     "text": [
      "10 > 3 -> True\n",
      "3 + 12 < 42.4 -> True\n"
     ]
    }
   ],
   "source": [
    "print('10 > 3 ->', 10 > 3)\n",
    "print('3 + 12 < 42.4 ->', 3 + 12 < 42.4)"
   ]
  },
  {
   "cell_type": "markdown",
   "metadata": {},
   "source": [
    "## Больше или равно, меньше или равно"
   ]
  },
  {
   "cell_type": "code",
   "execution_count": 10,
   "metadata": {},
   "outputs": [
    {
     "name": "stdout",
     "output_type": "stream",
     "text": [
      "10 + 8 <= 19 -> True\n",
      "32 <= 31 -> False\n"
     ]
    }
   ],
   "source": [
    "print('10 + 8 <= 19 ->', 10 + 8 <= 19)\n",
    "print('32 <= 31 ->', 32 <= 31)"
   ]
  },
  {
   "cell_type": "markdown",
   "metadata": {},
   "source": [
    "## Строгое равенство <code>==</code>\n",
    "\n",
    "<p style=\"font-size: 18px; text-align: justify;\">Оператор <code>=</code> - это функция присваивания значения переменной. Она просто сохраняет некое значение в переменной с идентификатором. Оператор <code>==</code> занимается сравнением двух значений переменных.</p>"
   ]
  },
  {
   "cell_type": "code",
   "execution_count": 12,
   "metadata": {},
   "outputs": [
    {
     "name": "stdout",
     "output_type": "stream",
     "text": [
      "15 == 15.0 -> True\n"
     ]
    }
   ],
   "source": [
    "a = 5 * 3\n",
    "b = 45 / 3\n",
    "\n",
    "print(f'{a} == {b} -> {a == b}')"
   ]
  },
  {
   "cell_type": "markdown",
   "metadata": {},
   "source": [
    "<p style=\"font-size: 18px; text-align: justify;\">Важно, что типы данных в сравнении не учитываются, поэтому <code>15<sub>int</sub></code> будет равно <code>15.0<sub>float</sub></code></p>"
   ]
  },
  {
   "cell_type": "markdown",
   "metadata": {},
   "source": [
    "## Не равно <code>!=</code>"
   ]
  },
  {
   "cell_type": "code",
   "execution_count": 13,
   "metadata": {},
   "outputs": [
    {
     "name": "stdout",
     "output_type": "stream",
     "text": [
      "True\n"
     ]
    }
   ],
   "source": [
    "print(15 != 5 + 9)"
   ]
  },
  {
   "cell_type": "code",
   "execution_count": null,
   "metadata": {},
   "outputs": [],
   "source": []
  }
 ],
 "metadata": {
  "kernelspec": {
   "display_name": "Python 3 (ipykernel)",
   "language": "python",
   "name": "python3"
  },
  "language_info": {
   "codemirror_mode": {
    "name": "ipython",
    "version": 3
   },
   "file_extension": ".py",
   "mimetype": "text/x-python",
   "name": "python",
   "nbconvert_exporter": "python",
   "pygments_lexer": "ipython3",
   "version": "3.11.2"
  }
 },
 "nbformat": 4,
 "nbformat_minor": 1
}
